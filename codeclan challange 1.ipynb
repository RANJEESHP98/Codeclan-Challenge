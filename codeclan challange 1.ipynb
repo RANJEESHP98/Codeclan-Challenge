{
 "cells": [
  {
   "cell_type": "raw",
   "id": "9c60e043-9eeb-4c6f-bfb5-c5fc174234ae",
   "metadata": {},
   "source": [
    "Find the exact date uisng birth year\n"
   ]
  },
  {
   "cell_type": "code",
   "execution_count": 13,
   "id": "fd690ed3-52ab-459c-b135-49cf4ef03d2a",
   "metadata": {},
   "outputs": [
    {
     "name": "stdin",
     "output_type": "stream",
     "text": [
      "Enter your birth year:  1998\n"
     ]
    },
    {
     "name": "stdout",
     "output_type": "stream",
     "text": [
      "Your age is: 27\n"
     ]
    }
   ],
   "source": [
    "import datetime\n",
    "\n",
    "birth_year = int(input(\"Enter your birth year: \"))\n",
    "\n",
    "                                                            # Get the current year and date\n",
    "current_year = datetime.datetime.now().year\n",
    "current_month = datetime.datetime.now().month\n",
    "current_day = datetime.datetime.now().day\n",
    "\n",
    "                                                            # Calculate age using an if function\n",
    "age = current_year - birth_year\n",
    "if current_month < 3 or (current_month == 3 and current_day < 12):\n",
    "    age -= 1\n",
    "\n",
    "print(\"Your age is:\", age)\n"
   ]
  },
  {
   "cell_type": "code",
   "execution_count": null,
   "id": "712eea7e-67df-4578-9c8a-45eb1af78f96",
   "metadata": {},
   "outputs": [],
   "source": []
  }
 ],
 "metadata": {
  "kernelspec": {
   "display_name": "Python [conda env:base] *",
   "language": "python",
   "name": "conda-base-py"
  },
  "language_info": {
   "codemirror_mode": {
    "name": "ipython",
    "version": 3
   },
   "file_extension": ".py",
   "mimetype": "text/x-python",
   "name": "python",
   "nbconvert_exporter": "python",
   "pygments_lexer": "ipython3",
   "version": "3.12.7"
  }
 },
 "nbformat": 4,
 "nbformat_minor": 5
}
