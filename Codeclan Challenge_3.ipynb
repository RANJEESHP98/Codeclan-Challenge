{
 "cells": [
  {
   "cell_type": "code",
   "execution_count": 11,
   "id": "4d4a9038-6ffd-4be5-9e84-db0cddd27354",
   "metadata": {},
   "outputs": [
    {
     "name": "stdin",
     "output_type": "stream",
     "text": [
      "Enter a number 1\n"
     ]
    },
    {
     "name": "stdout",
     "output_type": "stream",
     "text": [
      " 1*1 = 1\n",
      " 1*2 = 2\n",
      " 1*3 = 3\n",
      " 1*4 = 4\n",
      " 1*5 = 5\n",
      " 1*6 = 6\n",
      " 1*7 = 7\n",
      " 1*8 = 8\n",
      " 1*9 = 9\n",
      " 1*10 = 10\n"
     ]
    }
   ],
   "source": [
    "num = int(input(\"Enter a number\"))\n",
    "for i in range(0,10):\n",
    "    i+=1\n",
    "    m=num*i\n",
    "    \n",
    "    print(f\" {num}*{i} = {m}\")\n",
    "    \n"
   ]
  },
  {
   "cell_type": "code",
   "execution_count": null,
   "id": "a5543368-8c8a-42a7-94d6-b25193f99f36",
   "metadata": {},
   "outputs": [],
   "source": []
  }
 ],
 "metadata": {
  "kernelspec": {
   "display_name": "Python [conda env:base] *",
   "language": "python",
   "name": "conda-base-py"
  },
  "language_info": {
   "codemirror_mode": {
    "name": "ipython",
    "version": 3
   },
   "file_extension": ".py",
   "mimetype": "text/x-python",
   "name": "python",
   "nbconvert_exporter": "python",
   "pygments_lexer": "ipython3",
   "version": "3.12.7"
  }
 },
 "nbformat": 4,
 "nbformat_minor": 5
}
