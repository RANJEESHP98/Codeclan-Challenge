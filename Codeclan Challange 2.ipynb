{
 "cells": [
  {
   "cell_type": "raw",
   "id": "ae8a4306-b01a-4336-97ff-259509d6c6c5",
   "metadata": {},
   "source": [
    "Pick a random number from 1 to 10 and user need to gusss a number. \n"
   ]
  },
  {
   "cell_type": "code",
   "execution_count": 9,
   "id": "3eabb4a4-76e0-4b28-9a98-9b4a887fe3f2",
   "metadata": {},
   "outputs": [
    {
     "name": "stdin",
     "output_type": "stream",
     "text": [
      "Enter a number 3\n"
     ]
    },
    {
     "name": "stdout",
     "output_type": "stream",
     "text": [
      "Sorry Number is too Low!!! Your chance is over\n"
     ]
    }
   ],
   "source": [
    "num = int(input(\"Enter a number\"))\n",
    "correct_num = 5\n",
    "if num == correct_num:\n",
    "    print(\"Congratulation! Your number is correct.\")\n",
    "elif num > correct_num:\n",
    "    print(\"Sorry Number is too high Try again!!\")\n",
    "else:\n",
    "    print(\"Sorry Number is too Low!!! Your chance is over\")"
   ]
  },
  {
   "cell_type": "code",
   "execution_count": null,
   "id": "da1fe3d4-dd04-4503-b5bf-72a67215788f",
   "metadata": {},
   "outputs": [],
   "source": []
  }
 ],
 "metadata": {
  "kernelspec": {
   "display_name": "Python [conda env:base] *",
   "language": "python",
   "name": "conda-base-py"
  },
  "language_info": {
   "codemirror_mode": {
    "name": "ipython",
    "version": 3
   },
   "file_extension": ".py",
   "mimetype": "text/x-python",
   "name": "python",
   "nbconvert_exporter": "python",
   "pygments_lexer": "ipython3",
   "version": "3.12.7"
  }
 },
 "nbformat": 4,
 "nbformat_minor": 5
}
